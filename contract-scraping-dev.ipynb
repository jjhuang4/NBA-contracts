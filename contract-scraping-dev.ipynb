{
 "cells": [
  {
   "cell_type": "code",
   "execution_count": 33,
   "id": "initial_id",
   "metadata": {
    "collapsed": true,
    "ExecuteTime": {
     "end_time": "2024-03-27T21:16:28.693415700Z",
     "start_time": "2024-03-27T21:16:28.683334800Z"
    }
   },
   "outputs": [],
   "source": [
    "from selenium import webdriver\n",
    "from selenium.webdriver.common.by import By\n",
    "import pandas as pd\n",
    "import numpy as np\n",
    "import os\n",
    "import time"
   ]
  },
  {
   "cell_type": "code",
   "execution_count": 34,
   "outputs": [],
   "source": [
    "team = 'boston-celtics'\n",
    "wait = 5"
   ],
   "metadata": {
    "collapsed": false,
    "ExecuteTime": {
     "end_time": "2024-03-27T21:16:28.976673500Z",
     "start_time": "2024-03-27T21:16:28.973320900Z"
    }
   },
   "id": "49a5e5de4fc0d45a"
  },
  {
   "cell_type": "code",
   "execution_count": 36,
   "outputs": [
    {
     "name": "stdout",
     "output_type": "stream",
     "text": [
      "successful entrance\n",
      "Failed at extracting player name and contract type data\n",
      "not enough values to unpack (expected 3, got 1)\n",
      "Jrue Holiday, 4 yr, $134,997,333 (AAV: $33.75M), Extension / Veteran, PG, 33, (36861707, 27.1), (39403893, 27.9), (nan, nan), (nan, nan), (nan, nan), (nan, nan)\n",
      "----------------------------------------------------\n",
      "Kristaps Porzingis, 5 yr, $158,253,000 (AAV: $31.65M), Free Agent / Maximum, PF, 28, (36016200, 26.5), (29268293, 20.8), (30731707, 19.8), (nan, nan), (nan, nan), (nan, nan)\n",
      "----------------------------------------------------\n",
      "Jayson Tatum, 5 yr, $163,000,300 (AAV: $32.60M), Extension / Designated Rookie, PF, 25, (32600060, 24.0), (34848340, 24.7), (37096620, 23.9), (nan, nan), (nan, nan), (nan, nan)\n",
      "----------------------------------------------------\n",
      "Jaylen Brown, 4 yr, $106,333,334 (AAV: $26.58M), Extension / Rookie, SF, 27, (31830357, 23.4), (49350000, 35.0), (53298000, 34.4), (57246000, 33.6), (61194000, 32.6), (65142000, 31.6)\n",
      "----------------------------------------------------\n",
      "Derrick White, 4 yr, $70,000,000 (AAV: $17.50M), Extension / Rookie, PG, 29, (18357143, 13.5), (19571429, 13.9), (nan, nan), (nan, nan), (nan, nan), (nan, nan)\n",
      "----------------------------------------------------\n",
      "Al Horford, 2 yr, $19,500,000 (AAV: $9.75M), Extension / Veteran, C, 37, (10000000, 7.4), (9500000, 6.7), (nan, nan), (nan, nan), (nan, nan), (nan, nan)\n",
      "----------------------------------------------------\n",
      "Payton Pritchard, 4 yr, $10,449,718 (AAV: $2.61M), 1st-Round / Rookie Scale, PG, 26, (4037278, 3.0), (6696429, 4.7), (7232143, 4.7), (7767857, 4.6), (8303571, 4.4), (nan, nan)\n",
      "----------------------------------------------------\n",
      "Luke Kornet, 2 yr, $4,546,582 (AAV: $2.27M), Free Agent, C, 28, (2413304, 1.8), (nan, nan), (nan, nan), (nan, nan), (nan, nan), (nan, nan)\n",
      "----------------------------------------------------\n",
      "Jaden Springer, 4 yr, $10,393,483 (AAV: $2.60M), 1st-Round / Rookie Scale, PG, 21, (2226240, 1.6), (4018363, 2.9), (nan, nan), (nan, nan), (nan, nan), (nan, nan)\n",
      "----------------------------------------------------\n",
      "Oshae Brissett, 2 yr, $4,628,946 (AAV: $2.31M), Free Agent, SF, 25, (2165000, 1.6), (2463946, 1.7), (nan, nan), (nan, nan), (nan, nan), (nan, nan)\n",
      "----------------------------------------------------\n",
      "Sviatoslav Mykhailiuk, 1 yr, $2,346,614 (AAV: $2.35M), Free Agent, SG, 26, (2019706, 1.5), (nan, nan), (nan, nan), (nan, nan), (nan, nan), (nan, nan)\n",
      "----------------------------------------------------\n",
      "Xavier Tillman, 4 yr, $6,531,283 (AAV: $1.63M), 2nd-Round, C, 25, (1930681, 1.4), (nan, nan), (nan, nan), (nan, nan), (nan, nan), (nan, nan)\n",
      "----------------------------------------------------\n",
      "Sam Hauser, 3 yr, $5,658,206 (AAV: $1.89M), Free Agent, SF, 26, (1927896, 1.4), (2092344, 1.5), (nan, nan), (nan, nan), (nan, nan), (nan, nan)\n",
      "----------------------------------------------------\n",
      "Jordan Walsh, 4 yr, $7,639,303 (AAV: $1.91M), 2nd-Round, SF, 19, (1119563, 0.8), (1891857, 1.3), (2221677, 1.4), (2406205, 1.4), (nan, nan), (nan, nan)\n",
      "----------------------------------------------------\n",
      "J.D. Davison, 1 yr, Two-Way, PG, 21, (nan, nan), (nan, nan), (nan, nan), (nan, nan), (nan, nan), (nan, nan)\n",
      "----------------------------------------------------\n",
      "Drew Peterson, 1 yr, Two-Way, F, 24, (nan, nan), (nan, nan), (nan, nan), (nan, nan), (nan, nan), (nan, nan)\n",
      "----------------------------------------------------\n",
      "Neemias Queta, 1 yr, Two-Way, C, 24, (nan, nan), (nan, nan), (nan, nan), (nan, nan), (nan, nan), (nan, nan)\n",
      "----------------------------------------------------\n"
     ]
    }
   ],
   "source": [
    "driver = webdriver.Chrome()\n",
    "time.sleep(wait)\n",
    "driver.get(f'https://www.spotrac.com/nba/{team}/yearly/cap/')\n",
    "driver.implicitly_wait(10)\n",
    "print(\"successful entrance\")\n",
    "def year_breakdown(yr):\n",
    "    \"\"\"\n",
    "    yr a list of 2-3 elements containing a player's salary cap data for that year\n",
    "    returns: salary in dollar amount, percentage of total cap\n",
    "    \"\"\"\n",
    "    if \"UFA\" in yr or \"RFA\" in yr or \"Two-Way\" in yr:\n",
    "        return np.nan, np.nan\n",
    "    if \"Ext. Eligible\" in yr:\n",
    "        yr.remove(\"Ext. Eligible\")\n",
    "    if len(yr) == 3:\n",
    "        return int(yr[0].replace('$', '').replace(',','')), float(yr[2].replace('%',''))\n",
    "    elif len(yr) == 2:\n",
    "        return int(yr[0].replace('$', '').replace(',','')), float(yr[1].replace('%',''))\n",
    "    else:\n",
    "        return np.nan, np.nan\n",
    "    \n",
    "data = []\n",
    "try: \n",
    "    table = driver.find_element(By.XPATH, '//*[@id=\"main\"]/div/div[3]/div[2]/table[1]/tbody')\n",
    "    rows = table.find_elements(By.XPATH, '//tr[@role=\"row\"]') # get all table rows\n",
    "    flag = 0\n",
    "    for row in rows:\n",
    "        if \"PLAYERS\" in row.text:  # break if trying to access other tables than Active Roster\n",
    "            if flag == 0:\n",
    "                flag = 1\n",
    "            else:\n",
    "                break\n",
    "        try:  # access player name, contract type in first column cells\n",
    "            player = row.find_elements(By.CLASS_NAME, 'player')\n",
    "            name, contract, type = [elem.strip() for elem in player[0].text.split('\\n')]\n",
    "        except Exception as e:\n",
    "            print(\"Failed at extracting player name and contract type data\")\n",
    "            print(e)\n",
    "            continue\n",
    "        try:\n",
    "            info = row.find_elements(By.CLASS_NAME, 'center')\n",
    "            pos, age, yr1, yr2, yr3, yr4, yr5, yr6 = [elem.text.split('\\n') for elem in info[:8]] # create individual lists\n",
    "            pos = str(pos[0])\n",
    "            age = int(age[0])\n",
    "            sal1, per1 = year_breakdown(yr1)\n",
    "            sal2, per2 = year_breakdown(yr2)\n",
    "            sal3, per3 = year_breakdown(yr3)\n",
    "            sal4, per4 = year_breakdown(yr4)\n",
    "            sal5, per5 = year_breakdown(yr5)\n",
    "            sal6, per6 = year_breakdown(yr6)\n",
    "        except Exception as e:\n",
    "            print(\"Failed at extracting yearly contract data\")\n",
    "            print(e)\n",
    "            continue\n",
    "        print(f\"{name}, {contract}, {type}, {pos}, {age}, {sal1, per1}, {sal2, per2}, {sal3, per3}, {sal4, per4}, {sal5, per5}, {sal6, per6}\")\n",
    "        data.append([name, contract, type, pos, age, sal1, per1, sal2, per2, sal3, per3, sal4, per4, sal5, per5, sal6, per6])\n",
    "        print(\"----------------------------------------------------\")\n",
    "    driver.quit()\n",
    "except Exception as e:\n",
    "    driver.quit()\n",
    "    print(\"Failed to get webpage\")\n",
    "    print(e)\n"
   ],
   "metadata": {
    "collapsed": false,
    "ExecuteTime": {
     "end_time": "2024-03-27T21:28:03.214010700Z",
     "start_time": "2024-03-27T21:27:46.440535500Z"
    }
   },
   "id": "96d8fa0605f8e8ed"
  },
  {
   "cell_type": "code",
   "execution_count": 30,
   "outputs": [],
   "source": [
    "df = pd.DataFrame(data, columns=['Name', 'Contract', 'Type', 'Position', 'Age', 'Year 1 Salary', 'Year 1 %Cap', 'Year 2 Salary', 'Year 2 %Cap', 'Year 3 Salary', 'Year 3 %Cap', 'Year 4 Salary', 'Year 4 %Cap', 'Year 5 Salary', 'Year 5 %Cap', 'Year 6 Salary', 'Year 6 %Cap'])"
   ],
   "metadata": {
    "collapsed": false,
    "ExecuteTime": {
     "end_time": "2024-03-27T21:11:42.673982500Z",
     "start_time": "2024-03-27T21:11:42.656222500Z"
    }
   },
   "id": "1490c87c6757486d"
  },
  {
   "cell_type": "code",
   "execution_count": 31,
   "outputs": [],
   "source": [
    "df['Team'] = team"
   ],
   "metadata": {
    "collapsed": false,
    "ExecuteTime": {
     "end_time": "2024-03-27T21:11:42.970100900Z",
     "start_time": "2024-03-27T21:11:42.962167500Z"
    }
   },
   "id": "355adc8e3cb7f900"
  },
  {
   "cell_type": "code",
   "execution_count": 32,
   "outputs": [
    {
     "data": {
      "text/plain": "                 Name                           Contract  \\\n0          Trae Young  5 yr, $215,159,700 (AAV: $43.03M)   \n1     De'Andre Hunter   4 yr, $90,000,000 (AAV: $22.50M)   \n2   Bogdan Bogdanovic   4 yr, $68,000,000 (AAV: $17.00M)   \n3     Dejounte Murray   4 yr, $64,000,000 (AAV: $16.00M)   \n4      Onyeka Okongwu    4 yr, $26,422,143 (AAV: $6.61M)   \n5          Saddiq Bey    4 yr, $13,030,303 (AAV: $3.26M)   \n6         Kobe Bufkin    4 yr, $19,801,203 (AAV: $4.95M)   \n7        A.J. Griffin    4 yr, $17,106,137 (AAV: $4.28M)   \n8       Jalen Johnson    4 yr, $12,888,585 (AAV: $3.22M)   \n9      Bruno Fernando    4 yr, $10,869,564 (AAV: $2.72M)   \n10    Wesley Matthews     1 yr, $3,196,448 (AAV: $3.20M)   \n11   Garrison Mathews     4 yr, $8,230,253 (AAV: $2.06M)   \n12     Mouhamed Gueye     4 yr, $7,639,302 (AAV: $1.91M)   \n13      Trent Forrest       1 yr, $553,151 (AAV: $0.55M)   \n14         Vit Krejci                               1 yr   \n15         Seth Lundy                               1 yr   \n16      Dylan Windler                               1 yr   \n\n                             Type Position  Age  Year 1 Salary  Year 1 %Cap  \\\n0   Extension / Designated Rookie       PG   25     40064220.0         29.5   \n1              Extension / Rookie       SF   26     20089286.0         14.8   \n2             Extension / Veteran       SG   31     18700000.0         13.7   \n3              Extension / Rookie       PG   27     18214000.0         13.4   \n4        1st-Round / Rookie Scale        C   23      8109063.0          6.0   \n5        1st-Round / Rookie Scale       SF   24      4556983.0          3.4   \n6        1st-Round / Rookie Scale       PG   20      4094280.0          3.0   \n7        1st-Round / Rookie Scale       SF   20      3712920.0          2.7   \n8        1st-Round / Rookie Scale       SF   22      2925360.0          2.2   \n9             Extension / Veteran        C   25      2581522.0          1.9   \n10                     Free Agent       SG   37      2019706.0          1.5   \n11                 Rest-of-Season       SG   27      2000000.0          1.5   \n12                      2nd-Round       PF   21      1119563.0          0.8   \n13                 Rest-of-Season       PG   25       533945.0          0.4   \n14                        Two-Way       PG   23            NaN          NaN   \n15                        Two-Way       SG   23            NaN          NaN   \n16                        Two-Way       SF   27            NaN          NaN   \n\n    Year 2 Salary  Year 2 %Cap  Year 3 Salary  Year 3 %Cap  Year 4 Salary  \\\n0      43031940.0         30.5     45999660.0         29.7     48967380.0   \n1      21696429.0         15.4     23303571.0         15.0     24910714.0   \n2      17260000.0         12.2     16020000.0         10.3     16020000.0   \n3      25499599.0         18.1     27539568.0         17.8     29523536.0   \n4      14000000.0          9.9     15000000.0          9.7     16100000.0   \n5             NaN          NaN            NaN          NaN            NaN   \n6       4299000.0          3.0      4503720.0          2.9            NaN   \n7       3889920.0          2.8            NaN          NaN            NaN   \n8             NaN          NaN            NaN          NaN            NaN   \n9       2717391.0          1.9      2853260.0          1.8            NaN   \n10            NaN          NaN            NaN          NaN            NaN   \n11      2230253.0          1.6            NaN          NaN            NaN   \n12      1891857.0          1.3      2221677.0          1.4      2406205.0   \n13            NaN          NaN            NaN          NaN            NaN   \n14            NaN          NaN            NaN          NaN            NaN   \n15            NaN          NaN            NaN          NaN            NaN   \n16            NaN          NaN            NaN          NaN            NaN   \n\n    Year 4 %Cap  Year 5 Salary  Year 5 %Cap  Year 6 Salary  Year 6 %Cap  \\\n0          28.7            NaN          NaN            NaN          NaN   \n1          14.6            NaN          NaN            NaN          NaN   \n2           9.4            NaN          NaN            NaN          NaN   \n3          17.3     31507504.0         16.8            NaN          NaN   \n4           9.4     16880000.0          9.0            NaN          NaN   \n5           NaN            NaN          NaN            NaN          NaN   \n6           NaN            NaN          NaN            NaN          NaN   \n7           NaN            NaN          NaN            NaN          NaN   \n8           NaN            NaN          NaN            NaN          NaN   \n9           NaN            NaN          NaN            NaN          NaN   \n10          NaN            NaN          NaN            NaN          NaN   \n11          NaN            NaN          NaN            NaN          NaN   \n12          1.4            NaN          NaN            NaN          NaN   \n13          NaN            NaN          NaN            NaN          NaN   \n14          NaN            NaN          NaN            NaN          NaN   \n15          NaN            NaN          NaN            NaN          NaN   \n16          NaN            NaN          NaN            NaN          NaN   \n\n             Team  \n0   atlanta-hawks  \n1   atlanta-hawks  \n2   atlanta-hawks  \n3   atlanta-hawks  \n4   atlanta-hawks  \n5   atlanta-hawks  \n6   atlanta-hawks  \n7   atlanta-hawks  \n8   atlanta-hawks  \n9   atlanta-hawks  \n10  atlanta-hawks  \n11  atlanta-hawks  \n12  atlanta-hawks  \n13  atlanta-hawks  \n14  atlanta-hawks  \n15  atlanta-hawks  \n16  atlanta-hawks  ",
      "text/html": "<div>\n<style scoped>\n    .dataframe tbody tr th:only-of-type {\n        vertical-align: middle;\n    }\n\n    .dataframe tbody tr th {\n        vertical-align: top;\n    }\n\n    .dataframe thead th {\n        text-align: right;\n    }\n</style>\n<table border=\"1\" class=\"dataframe\">\n  <thead>\n    <tr style=\"text-align: right;\">\n      <th></th>\n      <th>Name</th>\n      <th>Contract</th>\n      <th>Type</th>\n      <th>Position</th>\n      <th>Age</th>\n      <th>Year 1 Salary</th>\n      <th>Year 1 %Cap</th>\n      <th>Year 2 Salary</th>\n      <th>Year 2 %Cap</th>\n      <th>Year 3 Salary</th>\n      <th>Year 3 %Cap</th>\n      <th>Year 4 Salary</th>\n      <th>Year 4 %Cap</th>\n      <th>Year 5 Salary</th>\n      <th>Year 5 %Cap</th>\n      <th>Year 6 Salary</th>\n      <th>Year 6 %Cap</th>\n      <th>Team</th>\n    </tr>\n  </thead>\n  <tbody>\n    <tr>\n      <th>0</th>\n      <td>Trae Young</td>\n      <td>5 yr, $215,159,700 (AAV: $43.03M)</td>\n      <td>Extension / Designated Rookie</td>\n      <td>PG</td>\n      <td>25</td>\n      <td>40064220.0</td>\n      <td>29.5</td>\n      <td>43031940.0</td>\n      <td>30.5</td>\n      <td>45999660.0</td>\n      <td>29.7</td>\n      <td>48967380.0</td>\n      <td>28.7</td>\n      <td>NaN</td>\n      <td>NaN</td>\n      <td>NaN</td>\n      <td>NaN</td>\n      <td>atlanta-hawks</td>\n    </tr>\n    <tr>\n      <th>1</th>\n      <td>De'Andre Hunter</td>\n      <td>4 yr, $90,000,000 (AAV: $22.50M)</td>\n      <td>Extension / Rookie</td>\n      <td>SF</td>\n      <td>26</td>\n      <td>20089286.0</td>\n      <td>14.8</td>\n      <td>21696429.0</td>\n      <td>15.4</td>\n      <td>23303571.0</td>\n      <td>15.0</td>\n      <td>24910714.0</td>\n      <td>14.6</td>\n      <td>NaN</td>\n      <td>NaN</td>\n      <td>NaN</td>\n      <td>NaN</td>\n      <td>atlanta-hawks</td>\n    </tr>\n    <tr>\n      <th>2</th>\n      <td>Bogdan Bogdanovic</td>\n      <td>4 yr, $68,000,000 (AAV: $17.00M)</td>\n      <td>Extension / Veteran</td>\n      <td>SG</td>\n      <td>31</td>\n      <td>18700000.0</td>\n      <td>13.7</td>\n      <td>17260000.0</td>\n      <td>12.2</td>\n      <td>16020000.0</td>\n      <td>10.3</td>\n      <td>16020000.0</td>\n      <td>9.4</td>\n      <td>NaN</td>\n      <td>NaN</td>\n      <td>NaN</td>\n      <td>NaN</td>\n      <td>atlanta-hawks</td>\n    </tr>\n    <tr>\n      <th>3</th>\n      <td>Dejounte Murray</td>\n      <td>4 yr, $64,000,000 (AAV: $16.00M)</td>\n      <td>Extension / Rookie</td>\n      <td>PG</td>\n      <td>27</td>\n      <td>18214000.0</td>\n      <td>13.4</td>\n      <td>25499599.0</td>\n      <td>18.1</td>\n      <td>27539568.0</td>\n      <td>17.8</td>\n      <td>29523536.0</td>\n      <td>17.3</td>\n      <td>31507504.0</td>\n      <td>16.8</td>\n      <td>NaN</td>\n      <td>NaN</td>\n      <td>atlanta-hawks</td>\n    </tr>\n    <tr>\n      <th>4</th>\n      <td>Onyeka Okongwu</td>\n      <td>4 yr, $26,422,143 (AAV: $6.61M)</td>\n      <td>1st-Round / Rookie Scale</td>\n      <td>C</td>\n      <td>23</td>\n      <td>8109063.0</td>\n      <td>6.0</td>\n      <td>14000000.0</td>\n      <td>9.9</td>\n      <td>15000000.0</td>\n      <td>9.7</td>\n      <td>16100000.0</td>\n      <td>9.4</td>\n      <td>16880000.0</td>\n      <td>9.0</td>\n      <td>NaN</td>\n      <td>NaN</td>\n      <td>atlanta-hawks</td>\n    </tr>\n    <tr>\n      <th>5</th>\n      <td>Saddiq Bey</td>\n      <td>4 yr, $13,030,303 (AAV: $3.26M)</td>\n      <td>1st-Round / Rookie Scale</td>\n      <td>SF</td>\n      <td>24</td>\n      <td>4556983.0</td>\n      <td>3.4</td>\n      <td>NaN</td>\n      <td>NaN</td>\n      <td>NaN</td>\n      <td>NaN</td>\n      <td>NaN</td>\n      <td>NaN</td>\n      <td>NaN</td>\n      <td>NaN</td>\n      <td>NaN</td>\n      <td>NaN</td>\n      <td>atlanta-hawks</td>\n    </tr>\n    <tr>\n      <th>6</th>\n      <td>Kobe Bufkin</td>\n      <td>4 yr, $19,801,203 (AAV: $4.95M)</td>\n      <td>1st-Round / Rookie Scale</td>\n      <td>PG</td>\n      <td>20</td>\n      <td>4094280.0</td>\n      <td>3.0</td>\n      <td>4299000.0</td>\n      <td>3.0</td>\n      <td>4503720.0</td>\n      <td>2.9</td>\n      <td>NaN</td>\n      <td>NaN</td>\n      <td>NaN</td>\n      <td>NaN</td>\n      <td>NaN</td>\n      <td>NaN</td>\n      <td>atlanta-hawks</td>\n    </tr>\n    <tr>\n      <th>7</th>\n      <td>A.J. Griffin</td>\n      <td>4 yr, $17,106,137 (AAV: $4.28M)</td>\n      <td>1st-Round / Rookie Scale</td>\n      <td>SF</td>\n      <td>20</td>\n      <td>3712920.0</td>\n      <td>2.7</td>\n      <td>3889920.0</td>\n      <td>2.8</td>\n      <td>NaN</td>\n      <td>NaN</td>\n      <td>NaN</td>\n      <td>NaN</td>\n      <td>NaN</td>\n      <td>NaN</td>\n      <td>NaN</td>\n      <td>NaN</td>\n      <td>atlanta-hawks</td>\n    </tr>\n    <tr>\n      <th>8</th>\n      <td>Jalen Johnson</td>\n      <td>4 yr, $12,888,585 (AAV: $3.22M)</td>\n      <td>1st-Round / Rookie Scale</td>\n      <td>SF</td>\n      <td>22</td>\n      <td>2925360.0</td>\n      <td>2.2</td>\n      <td>NaN</td>\n      <td>NaN</td>\n      <td>NaN</td>\n      <td>NaN</td>\n      <td>NaN</td>\n      <td>NaN</td>\n      <td>NaN</td>\n      <td>NaN</td>\n      <td>NaN</td>\n      <td>NaN</td>\n      <td>atlanta-hawks</td>\n    </tr>\n    <tr>\n      <th>9</th>\n      <td>Bruno Fernando</td>\n      <td>4 yr, $10,869,564 (AAV: $2.72M)</td>\n      <td>Extension / Veteran</td>\n      <td>C</td>\n      <td>25</td>\n      <td>2581522.0</td>\n      <td>1.9</td>\n      <td>2717391.0</td>\n      <td>1.9</td>\n      <td>2853260.0</td>\n      <td>1.8</td>\n      <td>NaN</td>\n      <td>NaN</td>\n      <td>NaN</td>\n      <td>NaN</td>\n      <td>NaN</td>\n      <td>NaN</td>\n      <td>atlanta-hawks</td>\n    </tr>\n    <tr>\n      <th>10</th>\n      <td>Wesley Matthews</td>\n      <td>1 yr, $3,196,448 (AAV: $3.20M)</td>\n      <td>Free Agent</td>\n      <td>SG</td>\n      <td>37</td>\n      <td>2019706.0</td>\n      <td>1.5</td>\n      <td>NaN</td>\n      <td>NaN</td>\n      <td>NaN</td>\n      <td>NaN</td>\n      <td>NaN</td>\n      <td>NaN</td>\n      <td>NaN</td>\n      <td>NaN</td>\n      <td>NaN</td>\n      <td>NaN</td>\n      <td>atlanta-hawks</td>\n    </tr>\n    <tr>\n      <th>11</th>\n      <td>Garrison Mathews</td>\n      <td>4 yr, $8,230,253 (AAV: $2.06M)</td>\n      <td>Rest-of-Season</td>\n      <td>SG</td>\n      <td>27</td>\n      <td>2000000.0</td>\n      <td>1.5</td>\n      <td>2230253.0</td>\n      <td>1.6</td>\n      <td>NaN</td>\n      <td>NaN</td>\n      <td>NaN</td>\n      <td>NaN</td>\n      <td>NaN</td>\n      <td>NaN</td>\n      <td>NaN</td>\n      <td>NaN</td>\n      <td>atlanta-hawks</td>\n    </tr>\n    <tr>\n      <th>12</th>\n      <td>Mouhamed Gueye</td>\n      <td>4 yr, $7,639,302 (AAV: $1.91M)</td>\n      <td>2nd-Round</td>\n      <td>PF</td>\n      <td>21</td>\n      <td>1119563.0</td>\n      <td>0.8</td>\n      <td>1891857.0</td>\n      <td>1.3</td>\n      <td>2221677.0</td>\n      <td>1.4</td>\n      <td>2406205.0</td>\n      <td>1.4</td>\n      <td>NaN</td>\n      <td>NaN</td>\n      <td>NaN</td>\n      <td>NaN</td>\n      <td>atlanta-hawks</td>\n    </tr>\n    <tr>\n      <th>13</th>\n      <td>Trent Forrest</td>\n      <td>1 yr, $553,151 (AAV: $0.55M)</td>\n      <td>Rest-of-Season</td>\n      <td>PG</td>\n      <td>25</td>\n      <td>533945.0</td>\n      <td>0.4</td>\n      <td>NaN</td>\n      <td>NaN</td>\n      <td>NaN</td>\n      <td>NaN</td>\n      <td>NaN</td>\n      <td>NaN</td>\n      <td>NaN</td>\n      <td>NaN</td>\n      <td>NaN</td>\n      <td>NaN</td>\n      <td>atlanta-hawks</td>\n    </tr>\n    <tr>\n      <th>14</th>\n      <td>Vit Krejci</td>\n      <td>1 yr</td>\n      <td>Two-Way</td>\n      <td>PG</td>\n      <td>23</td>\n      <td>NaN</td>\n      <td>NaN</td>\n      <td>NaN</td>\n      <td>NaN</td>\n      <td>NaN</td>\n      <td>NaN</td>\n      <td>NaN</td>\n      <td>NaN</td>\n      <td>NaN</td>\n      <td>NaN</td>\n      <td>NaN</td>\n      <td>NaN</td>\n      <td>atlanta-hawks</td>\n    </tr>\n    <tr>\n      <th>15</th>\n      <td>Seth Lundy</td>\n      <td>1 yr</td>\n      <td>Two-Way</td>\n      <td>SG</td>\n      <td>23</td>\n      <td>NaN</td>\n      <td>NaN</td>\n      <td>NaN</td>\n      <td>NaN</td>\n      <td>NaN</td>\n      <td>NaN</td>\n      <td>NaN</td>\n      <td>NaN</td>\n      <td>NaN</td>\n      <td>NaN</td>\n      <td>NaN</td>\n      <td>NaN</td>\n      <td>atlanta-hawks</td>\n    </tr>\n    <tr>\n      <th>16</th>\n      <td>Dylan Windler</td>\n      <td>1 yr</td>\n      <td>Two-Way</td>\n      <td>SF</td>\n      <td>27</td>\n      <td>NaN</td>\n      <td>NaN</td>\n      <td>NaN</td>\n      <td>NaN</td>\n      <td>NaN</td>\n      <td>NaN</td>\n      <td>NaN</td>\n      <td>NaN</td>\n      <td>NaN</td>\n      <td>NaN</td>\n      <td>NaN</td>\n      <td>NaN</td>\n      <td>atlanta-hawks</td>\n    </tr>\n  </tbody>\n</table>\n</div>"
     },
     "execution_count": 32,
     "metadata": {},
     "output_type": "execute_result"
    }
   ],
   "source": [
    "df"
   ],
   "metadata": {
    "collapsed": false,
    "ExecuteTime": {
     "end_time": "2024-03-27T21:11:43.253839900Z",
     "start_time": "2024-03-27T21:11:43.217890300Z"
    }
   },
   "id": "12af70173e6e8ed9"
  },
  {
   "cell_type": "code",
   "execution_count": 14,
   "outputs": [],
   "source": [
    "d = os.getcwd()\n",
    "df.to_csv(os.path.join(d, f'{team}-contracts.csv'), index=False)"
   ],
   "metadata": {
    "collapsed": false,
    "ExecuteTime": {
     "end_time": "2024-03-27T20:30:10.760877Z",
     "start_time": "2024-03-27T20:30:10.754871700Z"
    }
   },
   "id": "a7708c304d0d54af"
  },
  {
   "cell_type": "code",
   "execution_count": 13,
   "outputs": [
    {
     "name": "stdout",
     "output_type": "stream",
     "text": [
      "C:\\Users\\jrh25\\PycharmProjects\\NBA-contracts\n"
     ]
    }
   ],
   "source": [
    "print(d)"
   ],
   "metadata": {
    "collapsed": false,
    "ExecuteTime": {
     "end_time": "2024-03-27T20:29:31.846762500Z",
     "start_time": "2024-03-27T20:29:31.839018500Z"
    }
   },
   "id": "9c0bb00eaf567fc0"
  },
  {
   "cell_type": "code",
   "execution_count": 15,
   "outputs": [
    {
     "data": {
      "text/plain": "                 Name                           Contract  \\\n0          Trae Young  5 yr, $215,159,700 (AAV: $43.03M)   \n1     De'Andre Hunter   4 yr, $90,000,000 (AAV: $22.50M)   \n2   Bogdan Bogdanovic   4 yr, $68,000,000 (AAV: $17.00M)   \n3     Dejounte Murray   4 yr, $64,000,000 (AAV: $16.00M)   \n4      Onyeka Okongwu    4 yr, $26,422,143 (AAV: $6.61M)   \n5          Saddiq Bey    4 yr, $13,030,303 (AAV: $3.26M)   \n6         Kobe Bufkin    4 yr, $19,801,203 (AAV: $4.95M)   \n7        A.J. Griffin    4 yr, $17,106,137 (AAV: $4.28M)   \n8       Jalen Johnson    4 yr, $12,888,585 (AAV: $3.22M)   \n9      Bruno Fernando    4 yr, $10,869,564 (AAV: $2.72M)   \n10    Wesley Matthews     1 yr, $3,196,448 (AAV: $3.20M)   \n11   Garrison Mathews     4 yr, $8,230,253 (AAV: $2.06M)   \n12     Mouhamed Gueye     4 yr, $7,639,302 (AAV: $1.91M)   \n13      Trent Forrest       1 yr, $553,151 (AAV: $0.55M)   \n14         Vit Krejci                               1 yr   \n15         Seth Lundy                               1 yr   \n16      Dylan Windler                               1 yr   \n\n                             Type Position  Age  Year 1 Salary  Year 1 %Cap  \\\n0   Extension / Designated Rookie       PG   25     40064220.0         29.5   \n1              Extension / Rookie       SF   26     20089286.0         14.8   \n2             Extension / Veteran       SG   31     18700000.0         13.7   \n3              Extension / Rookie       PG   27     18214000.0         13.4   \n4        1st-Round / Rookie Scale        C   23      8109063.0          6.0   \n5        1st-Round / Rookie Scale       SF   24      4556983.0          3.4   \n6        1st-Round / Rookie Scale       PG   20      4094280.0          3.0   \n7        1st-Round / Rookie Scale       SF   20      3712920.0          2.7   \n8        1st-Round / Rookie Scale       SF   22      2925360.0          2.2   \n9             Extension / Veteran        C   25      2581522.0          1.9   \n10                     Free Agent       SG   37      2019706.0          1.5   \n11                 Rest-of-Season       SG   27      2000000.0          1.5   \n12                      2nd-Round       PF   21      1119563.0          0.8   \n13                 Rest-of-Season       PG   25       533945.0          0.4   \n14                        Two-Way       PG   23            NaN          NaN   \n15                        Two-Way       SG   23            NaN          NaN   \n16                        Two-Way       SF   27            NaN          NaN   \n\n    Year 2 Salary  Year 2 %Cap  Year 3 Salary  Year 3 %Cap  Year 4 Salary  \\\n0      43031940.0         30.5     45999660.0         29.7     48967380.0   \n1      21696429.0         15.4     23303571.0         15.0     24910714.0   \n2      17260000.0         12.2     16020000.0         10.3     16020000.0   \n3      25499599.0         18.1     27539568.0         17.8     29523536.0   \n4      14000000.0          9.9     15000000.0          9.7     16100000.0   \n5             NaN          NaN            NaN          NaN            NaN   \n6       4299000.0          3.0      4503720.0          2.9            NaN   \n7       3889920.0          2.8            NaN          NaN            NaN   \n8             NaN          NaN            NaN          NaN            NaN   \n9       2717391.0          1.9      2853260.0          1.8            NaN   \n10            NaN          NaN            NaN          NaN            NaN   \n11      2230253.0          1.6            NaN          NaN            NaN   \n12      1891857.0          1.3      2221677.0          1.4      2406205.0   \n13            NaN          NaN            NaN          NaN            NaN   \n14            NaN          NaN            NaN          NaN            NaN   \n15            NaN          NaN            NaN          NaN            NaN   \n16            NaN          NaN            NaN          NaN            NaN   \n\n    Year 4 %Cap  Year 5 Salary  Year 5 %Cap  Year 6 Salary  Year 6 %Cap  \\\n0          28.7            NaN          NaN            NaN          NaN   \n1          14.6            NaN          NaN            NaN          NaN   \n2           9.4            NaN          NaN            NaN          NaN   \n3          17.3     31507504.0         16.8            NaN          NaN   \n4           9.4     16880000.0          9.0            NaN          NaN   \n5           NaN            NaN          NaN            NaN          NaN   \n6           NaN            NaN          NaN            NaN          NaN   \n7           NaN            NaN          NaN            NaN          NaN   \n8           NaN            NaN          NaN            NaN          NaN   \n9           NaN            NaN          NaN            NaN          NaN   \n10          NaN            NaN          NaN            NaN          NaN   \n11          NaN            NaN          NaN            NaN          NaN   \n12          1.4            NaN          NaN            NaN          NaN   \n13          NaN            NaN          NaN            NaN          NaN   \n14          NaN            NaN          NaN            NaN          NaN   \n15          NaN            NaN          NaN            NaN          NaN   \n16          NaN            NaN          NaN            NaN          NaN   \n\n             Team  \n0   atlanta-hawks  \n1   atlanta-hawks  \n2   atlanta-hawks  \n3   atlanta-hawks  \n4   atlanta-hawks  \n5   atlanta-hawks  \n6   atlanta-hawks  \n7   atlanta-hawks  \n8   atlanta-hawks  \n9   atlanta-hawks  \n10  atlanta-hawks  \n11  atlanta-hawks  \n12  atlanta-hawks  \n13  atlanta-hawks  \n14  atlanta-hawks  \n15  atlanta-hawks  \n16  atlanta-hawks  ",
      "text/html": "<div>\n<style scoped>\n    .dataframe tbody tr th:only-of-type {\n        vertical-align: middle;\n    }\n\n    .dataframe tbody tr th {\n        vertical-align: top;\n    }\n\n    .dataframe thead th {\n        text-align: right;\n    }\n</style>\n<table border=\"1\" class=\"dataframe\">\n  <thead>\n    <tr style=\"text-align: right;\">\n      <th></th>\n      <th>Name</th>\n      <th>Contract</th>\n      <th>Type</th>\n      <th>Position</th>\n      <th>Age</th>\n      <th>Year 1 Salary</th>\n      <th>Year 1 %Cap</th>\n      <th>Year 2 Salary</th>\n      <th>Year 2 %Cap</th>\n      <th>Year 3 Salary</th>\n      <th>Year 3 %Cap</th>\n      <th>Year 4 Salary</th>\n      <th>Year 4 %Cap</th>\n      <th>Year 5 Salary</th>\n      <th>Year 5 %Cap</th>\n      <th>Year 6 Salary</th>\n      <th>Year 6 %Cap</th>\n      <th>Team</th>\n    </tr>\n  </thead>\n  <tbody>\n    <tr>\n      <th>0</th>\n      <td>Trae Young</td>\n      <td>5 yr, $215,159,700 (AAV: $43.03M)</td>\n      <td>Extension / Designated Rookie</td>\n      <td>PG</td>\n      <td>25</td>\n      <td>40064220.0</td>\n      <td>29.5</td>\n      <td>43031940.0</td>\n      <td>30.5</td>\n      <td>45999660.0</td>\n      <td>29.7</td>\n      <td>48967380.0</td>\n      <td>28.7</td>\n      <td>NaN</td>\n      <td>NaN</td>\n      <td>NaN</td>\n      <td>NaN</td>\n      <td>atlanta-hawks</td>\n    </tr>\n    <tr>\n      <th>1</th>\n      <td>De'Andre Hunter</td>\n      <td>4 yr, $90,000,000 (AAV: $22.50M)</td>\n      <td>Extension / Rookie</td>\n      <td>SF</td>\n      <td>26</td>\n      <td>20089286.0</td>\n      <td>14.8</td>\n      <td>21696429.0</td>\n      <td>15.4</td>\n      <td>23303571.0</td>\n      <td>15.0</td>\n      <td>24910714.0</td>\n      <td>14.6</td>\n      <td>NaN</td>\n      <td>NaN</td>\n      <td>NaN</td>\n      <td>NaN</td>\n      <td>atlanta-hawks</td>\n    </tr>\n    <tr>\n      <th>2</th>\n      <td>Bogdan Bogdanovic</td>\n      <td>4 yr, $68,000,000 (AAV: $17.00M)</td>\n      <td>Extension / Veteran</td>\n      <td>SG</td>\n      <td>31</td>\n      <td>18700000.0</td>\n      <td>13.7</td>\n      <td>17260000.0</td>\n      <td>12.2</td>\n      <td>16020000.0</td>\n      <td>10.3</td>\n      <td>16020000.0</td>\n      <td>9.4</td>\n      <td>NaN</td>\n      <td>NaN</td>\n      <td>NaN</td>\n      <td>NaN</td>\n      <td>atlanta-hawks</td>\n    </tr>\n    <tr>\n      <th>3</th>\n      <td>Dejounte Murray</td>\n      <td>4 yr, $64,000,000 (AAV: $16.00M)</td>\n      <td>Extension / Rookie</td>\n      <td>PG</td>\n      <td>27</td>\n      <td>18214000.0</td>\n      <td>13.4</td>\n      <td>25499599.0</td>\n      <td>18.1</td>\n      <td>27539568.0</td>\n      <td>17.8</td>\n      <td>29523536.0</td>\n      <td>17.3</td>\n      <td>31507504.0</td>\n      <td>16.8</td>\n      <td>NaN</td>\n      <td>NaN</td>\n      <td>atlanta-hawks</td>\n    </tr>\n    <tr>\n      <th>4</th>\n      <td>Onyeka Okongwu</td>\n      <td>4 yr, $26,422,143 (AAV: $6.61M)</td>\n      <td>1st-Round / Rookie Scale</td>\n      <td>C</td>\n      <td>23</td>\n      <td>8109063.0</td>\n      <td>6.0</td>\n      <td>14000000.0</td>\n      <td>9.9</td>\n      <td>15000000.0</td>\n      <td>9.7</td>\n      <td>16100000.0</td>\n      <td>9.4</td>\n      <td>16880000.0</td>\n      <td>9.0</td>\n      <td>NaN</td>\n      <td>NaN</td>\n      <td>atlanta-hawks</td>\n    </tr>\n    <tr>\n      <th>5</th>\n      <td>Saddiq Bey</td>\n      <td>4 yr, $13,030,303 (AAV: $3.26M)</td>\n      <td>1st-Round / Rookie Scale</td>\n      <td>SF</td>\n      <td>24</td>\n      <td>4556983.0</td>\n      <td>3.4</td>\n      <td>NaN</td>\n      <td>NaN</td>\n      <td>NaN</td>\n      <td>NaN</td>\n      <td>NaN</td>\n      <td>NaN</td>\n      <td>NaN</td>\n      <td>NaN</td>\n      <td>NaN</td>\n      <td>NaN</td>\n      <td>atlanta-hawks</td>\n    </tr>\n    <tr>\n      <th>6</th>\n      <td>Kobe Bufkin</td>\n      <td>4 yr, $19,801,203 (AAV: $4.95M)</td>\n      <td>1st-Round / Rookie Scale</td>\n      <td>PG</td>\n      <td>20</td>\n      <td>4094280.0</td>\n      <td>3.0</td>\n      <td>4299000.0</td>\n      <td>3.0</td>\n      <td>4503720.0</td>\n      <td>2.9</td>\n      <td>NaN</td>\n      <td>NaN</td>\n      <td>NaN</td>\n      <td>NaN</td>\n      <td>NaN</td>\n      <td>NaN</td>\n      <td>atlanta-hawks</td>\n    </tr>\n    <tr>\n      <th>7</th>\n      <td>A.J. Griffin</td>\n      <td>4 yr, $17,106,137 (AAV: $4.28M)</td>\n      <td>1st-Round / Rookie Scale</td>\n      <td>SF</td>\n      <td>20</td>\n      <td>3712920.0</td>\n      <td>2.7</td>\n      <td>3889920.0</td>\n      <td>2.8</td>\n      <td>NaN</td>\n      <td>NaN</td>\n      <td>NaN</td>\n      <td>NaN</td>\n      <td>NaN</td>\n      <td>NaN</td>\n      <td>NaN</td>\n      <td>NaN</td>\n      <td>atlanta-hawks</td>\n    </tr>\n    <tr>\n      <th>8</th>\n      <td>Jalen Johnson</td>\n      <td>4 yr, $12,888,585 (AAV: $3.22M)</td>\n      <td>1st-Round / Rookie Scale</td>\n      <td>SF</td>\n      <td>22</td>\n      <td>2925360.0</td>\n      <td>2.2</td>\n      <td>NaN</td>\n      <td>NaN</td>\n      <td>NaN</td>\n      <td>NaN</td>\n      <td>NaN</td>\n      <td>NaN</td>\n      <td>NaN</td>\n      <td>NaN</td>\n      <td>NaN</td>\n      <td>NaN</td>\n      <td>atlanta-hawks</td>\n    </tr>\n    <tr>\n      <th>9</th>\n      <td>Bruno Fernando</td>\n      <td>4 yr, $10,869,564 (AAV: $2.72M)</td>\n      <td>Extension / Veteran</td>\n      <td>C</td>\n      <td>25</td>\n      <td>2581522.0</td>\n      <td>1.9</td>\n      <td>2717391.0</td>\n      <td>1.9</td>\n      <td>2853260.0</td>\n      <td>1.8</td>\n      <td>NaN</td>\n      <td>NaN</td>\n      <td>NaN</td>\n      <td>NaN</td>\n      <td>NaN</td>\n      <td>NaN</td>\n      <td>atlanta-hawks</td>\n    </tr>\n    <tr>\n      <th>10</th>\n      <td>Wesley Matthews</td>\n      <td>1 yr, $3,196,448 (AAV: $3.20M)</td>\n      <td>Free Agent</td>\n      <td>SG</td>\n      <td>37</td>\n      <td>2019706.0</td>\n      <td>1.5</td>\n      <td>NaN</td>\n      <td>NaN</td>\n      <td>NaN</td>\n      <td>NaN</td>\n      <td>NaN</td>\n      <td>NaN</td>\n      <td>NaN</td>\n      <td>NaN</td>\n      <td>NaN</td>\n      <td>NaN</td>\n      <td>atlanta-hawks</td>\n    </tr>\n    <tr>\n      <th>11</th>\n      <td>Garrison Mathews</td>\n      <td>4 yr, $8,230,253 (AAV: $2.06M)</td>\n      <td>Rest-of-Season</td>\n      <td>SG</td>\n      <td>27</td>\n      <td>2000000.0</td>\n      <td>1.5</td>\n      <td>2230253.0</td>\n      <td>1.6</td>\n      <td>NaN</td>\n      <td>NaN</td>\n      <td>NaN</td>\n      <td>NaN</td>\n      <td>NaN</td>\n      <td>NaN</td>\n      <td>NaN</td>\n      <td>NaN</td>\n      <td>atlanta-hawks</td>\n    </tr>\n    <tr>\n      <th>12</th>\n      <td>Mouhamed Gueye</td>\n      <td>4 yr, $7,639,302 (AAV: $1.91M)</td>\n      <td>2nd-Round</td>\n      <td>PF</td>\n      <td>21</td>\n      <td>1119563.0</td>\n      <td>0.8</td>\n      <td>1891857.0</td>\n      <td>1.3</td>\n      <td>2221677.0</td>\n      <td>1.4</td>\n      <td>2406205.0</td>\n      <td>1.4</td>\n      <td>NaN</td>\n      <td>NaN</td>\n      <td>NaN</td>\n      <td>NaN</td>\n      <td>atlanta-hawks</td>\n    </tr>\n    <tr>\n      <th>13</th>\n      <td>Trent Forrest</td>\n      <td>1 yr, $553,151 (AAV: $0.55M)</td>\n      <td>Rest-of-Season</td>\n      <td>PG</td>\n      <td>25</td>\n      <td>533945.0</td>\n      <td>0.4</td>\n      <td>NaN</td>\n      <td>NaN</td>\n      <td>NaN</td>\n      <td>NaN</td>\n      <td>NaN</td>\n      <td>NaN</td>\n      <td>NaN</td>\n      <td>NaN</td>\n      <td>NaN</td>\n      <td>NaN</td>\n      <td>atlanta-hawks</td>\n    </tr>\n    <tr>\n      <th>14</th>\n      <td>Vit Krejci</td>\n      <td>1 yr</td>\n      <td>Two-Way</td>\n      <td>PG</td>\n      <td>23</td>\n      <td>NaN</td>\n      <td>NaN</td>\n      <td>NaN</td>\n      <td>NaN</td>\n      <td>NaN</td>\n      <td>NaN</td>\n      <td>NaN</td>\n      <td>NaN</td>\n      <td>NaN</td>\n      <td>NaN</td>\n      <td>NaN</td>\n      <td>NaN</td>\n      <td>atlanta-hawks</td>\n    </tr>\n    <tr>\n      <th>15</th>\n      <td>Seth Lundy</td>\n      <td>1 yr</td>\n      <td>Two-Way</td>\n      <td>SG</td>\n      <td>23</td>\n      <td>NaN</td>\n      <td>NaN</td>\n      <td>NaN</td>\n      <td>NaN</td>\n      <td>NaN</td>\n      <td>NaN</td>\n      <td>NaN</td>\n      <td>NaN</td>\n      <td>NaN</td>\n      <td>NaN</td>\n      <td>NaN</td>\n      <td>NaN</td>\n      <td>atlanta-hawks</td>\n    </tr>\n    <tr>\n      <th>16</th>\n      <td>Dylan Windler</td>\n      <td>1 yr</td>\n      <td>Two-Way</td>\n      <td>SF</td>\n      <td>27</td>\n      <td>NaN</td>\n      <td>NaN</td>\n      <td>NaN</td>\n      <td>NaN</td>\n      <td>NaN</td>\n      <td>NaN</td>\n      <td>NaN</td>\n      <td>NaN</td>\n      <td>NaN</td>\n      <td>NaN</td>\n      <td>NaN</td>\n      <td>NaN</td>\n      <td>atlanta-hawks</td>\n    </tr>\n  </tbody>\n</table>\n</div>"
     },
     "execution_count": 15,
     "metadata": {},
     "output_type": "execute_result"
    }
   ],
   "source": [
    "test = pd.read_csv(f'{team}-contracts.csv')\n",
    "test"
   ],
   "metadata": {
    "collapsed": false,
    "ExecuteTime": {
     "end_time": "2024-03-27T20:30:37.558696100Z",
     "start_time": "2024-03-27T20:30:37.528757Z"
    }
   },
   "id": "bbfc159cd834435b"
  },
  {
   "cell_type": "code",
   "execution_count": null,
   "outputs": [],
   "source": [],
   "metadata": {
    "collapsed": false
   },
   "id": "3d8a5df94077ca9"
  }
 ],
 "metadata": {
  "kernelspec": {
   "display_name": "Python 3",
   "language": "python",
   "name": "python3"
  },
  "language_info": {
   "codemirror_mode": {
    "name": "ipython",
    "version": 2
   },
   "file_extension": ".py",
   "mimetype": "text/x-python",
   "name": "python",
   "nbconvert_exporter": "python",
   "pygments_lexer": "ipython2",
   "version": "2.7.6"
  }
 },
 "nbformat": 4,
 "nbformat_minor": 5
}
